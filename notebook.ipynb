{
 "cells": [
  {
   "cell_type": "code",
   "execution_count": 1,
   "metadata": {},
   "outputs": [],
   "source": [
    "%load_ext autoreload\n",
    "%autoreload 2\n",
    "%matplotlib widget"
   ]
  },
  {
   "cell_type": "code",
   "execution_count": 2,
   "metadata": {},
   "outputs": [],
   "source": [
    "import cat_state_tool as ct\n",
    "import numpy as np"
   ]
  },
  {
   "cell_type": "code",
   "execution_count": 3,
   "metadata": {},
   "outputs": [
    {
     "name": "stdout",
     "output_type": "stream",
     "text": [
      "Cleaned the directory c:\\Users\\seanw\\OneDrive\\Files\\Master EXPH\\Master Thesis\\Works\\Version_9_Jan_2025_CatCodeDrive\\develop.\n"
     ]
    }
   ],
   "source": [
    "ct.clean_subdirectory(\"develop\")"
   ]
  },
  {
   "cell_type": "code",
   "execution_count": 4,
   "metadata": {},
   "outputs": [],
   "source": [
    "def gamma(t):\n",
    "    return np.sin(t) * 0.2"
   ]
  },
  {
   "cell_type": "code",
   "execution_count": 5,
   "metadata": {},
   "outputs": [],
   "source": [
    "hilbert_dimension = 100\n",
    "time_total = 40\n",
    "time_steps = 4000\n",
    "kappa = 0.0\n",
    "omega_r = 1.0\n",
    "gate_frequency = 0"
   ]
  },
  {
   "cell_type": "code",
   "execution_count": 6,
   "metadata": {},
   "outputs": [],
   "source": [
    "system = ct.TimeDependentCatStateEvolution(\n",
    "    hilbert_dimension, time_total, time_steps, kappa, omega_r, gamma, gate_frequency\n",
    ")"
   ]
  },
  {
   "cell_type": "code",
   "execution_count": 7,
   "metadata": {},
   "outputs": [
    {
     "name": "stderr",
     "output_type": "stream",
     "text": [
      "100%|██████████| 4000/4000 [02:03<00:00, 32.52it/s]\n"
     ]
    }
   ],
   "source": [
    "density_matrix_history, times = system.simulation_evolution()"
   ]
  },
  {
   "cell_type": "code",
   "execution_count": 8,
   "metadata": {},
   "outputs": [],
   "source": [
    "# np.save(\"density_matrix_history_spin_down.npy\", density_matrix_history)\n",
    "# np.save(\"times.npy\", times)"
   ]
  },
  {
   "cell_type": "code",
   "execution_count": 9,
   "metadata": {},
   "outputs": [],
   "source": [
    "xvec = np.linspace(-15, 15, 150)\n",
    "pvec = np.linspace(-15, 15, 150)"
   ]
  },
  {
   "cell_type": "code",
   "execution_count": 10,
   "metadata": {},
   "outputs": [
    {
     "name": "stderr",
     "output_type": "stream",
     "text": [
      "100%|██████████| 60/60 [02:42<00:00,  2.71s/it]\n"
     ]
    }
   ],
   "source": [
    "system.plot_wigner_2d_multi(density_matrix_history, xvec, pvec, 60, \"develop/wigner_2d\")"
   ]
  },
  {
   "cell_type": "code",
   "execution_count": 11,
   "metadata": {},
   "outputs": [
    {
     "name": "stderr",
     "output_type": "stream",
     "text": [
      "100%|██████████| 6/6 [00:16<00:00,  2.79s/it]\n"
     ]
    },
    {
     "name": "stdout",
     "output_type": "stream",
     "text": [
      "MoviePy - Building video wigner_2d.mp4.\n",
      "MoviePy - Writing video wigner_2d.mp4\n",
      "\n"
     ]
    },
    {
     "name": "stderr",
     "output_type": "stream",
     "text": [
      "                                                                      \r"
     ]
    },
    {
     "name": "stdout",
     "output_type": "stream",
     "text": [
      "MoviePy - Done !\n",
      "MoviePy - video ready wigner_2d.mp4\n"
     ]
    }
   ],
   "source": [
    "ct.animate_wigner_2d(\"develop\")"
   ]
  }
 ],
 "metadata": {
  "kernelspec": {
   "display_name": ".venv",
   "language": "python",
   "name": "python3"
  },
  "language_info": {
   "codemirror_mode": {
    "name": "ipython",
    "version": 3
   },
   "file_extension": ".py",
   "mimetype": "text/x-python",
   "name": "python",
   "nbconvert_exporter": "python",
   "pygments_lexer": "ipython3",
   "version": "3.12.7"
  }
 },
 "nbformat": 4,
 "nbformat_minor": 2
}
