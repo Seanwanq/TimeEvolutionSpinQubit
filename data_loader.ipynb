{
 "cells": [
  {
   "cell_type": "code",
   "execution_count": 1,
   "metadata": {},
   "outputs": [],
   "source": [
    "%load_ext autoreload\n",
    "%autoreload 2\n",
    "%matplotlib widget"
   ]
  },
  {
   "cell_type": "code",
   "execution_count": 2,
   "metadata": {},
   "outputs": [],
   "source": [
    "import cat_state_tool as ct\n",
    "import numpy as np"
   ]
  },
  {
   "cell_type": "code",
   "execution_count": 3,
   "metadata": {},
   "outputs": [
    {
     "name": "stdout",
     "output_type": "stream",
     "text": [
      "Cleaned the directory c:\\Users\\seanw\\OneDrive\\Files\\Master EXPH\\Master Thesis\\Works\\Version_9_Jan_2025_CatCodeDrive\\develop.\n"
     ]
    }
   ],
   "source": [
    "ct.clean_subdirectory(\"develop\")"
   ]
  },
  {
   "cell_type": "code",
   "execution_count": 4,
   "metadata": {},
   "outputs": [],
   "source": [
    "def gamma(t):\n",
    "    return np.cos(t) * 0.2"
   ]
  },
  {
   "cell_type": "code",
   "execution_count": 5,
   "metadata": {},
   "outputs": [],
   "source": [
    "hilbert_dimension = 100\n",
    "time_total = 40\n",
    "time_steps = 4000\n",
    "kappa = 0.0\n",
    "omega_r = 1.0\n",
    "gate_frequency = 0"
   ]
  },
  {
   "cell_type": "code",
   "execution_count": 6,
   "metadata": {},
   "outputs": [],
   "source": [
    "system = ct.TimeDependentCatStateEvolution(\n",
    "    hilbert_dimension, time_total, time_steps, kappa, omega_r, gamma, gate_frequency\n",
    ")"
   ]
  },
  {
   "cell_type": "code",
   "execution_count": 7,
   "metadata": {},
   "outputs": [],
   "source": [
    "xvec = np.linspace(-15, 15, 150)\n",
    "pvec = np.linspace(-15, 15, 150)"
   ]
  },
  {
   "cell_type": "code",
   "execution_count": 8,
   "metadata": {},
   "outputs": [],
   "source": [
    "density_matrix_spin_down = np.load(\"./density_matrix_history_spin_down.npy\")\n",
    "density_matrix_spin_up = np.load(\"./density_matrix_history_spin_up.npy\")"
   ]
  },
  {
   "cell_type": "code",
   "execution_count": 9,
   "metadata": {},
   "outputs": [
    {
     "name": "stderr",
     "output_type": "stream",
     "text": [
      "100%|██████████| 60/60 [04:30<00:00,  4.51s/it]\n"
     ]
    }
   ],
   "source": [
    "system.plot_wigner_2d_multi_special(density_matrix_spin_up, density_matrix_spin_down, xvec, pvec, 60, \"develop/wigner_2d\")"
   ]
  }
 ],
 "metadata": {
  "kernelspec": {
   "display_name": ".venv",
   "language": "python",
   "name": "python3"
  },
  "language_info": {
   "codemirror_mode": {
    "name": "ipython",
    "version": 3
   },
   "file_extension": ".py",
   "mimetype": "text/x-python",
   "name": "python",
   "nbconvert_exporter": "python",
   "pygments_lexer": "ipython3",
   "version": "3.12.7"
  }
 },
 "nbformat": 4,
 "nbformat_minor": 2
}
